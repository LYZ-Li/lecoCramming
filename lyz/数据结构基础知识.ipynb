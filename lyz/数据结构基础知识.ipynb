{
 "cells": [
  {
   "cell_type": "markdown",
   "metadata": {},
   "source": [
    "# List  \n",
    "list允许同时包含不同类型的数据在一个list里(这个是python独有的，大多数语言不支持这样操作)"
   ]
  },
  {
   "cell_type": "code",
   "execution_count": null,
   "metadata": {},
   "outputs": [],
   "source": [
    "a = [1,1.5,'asdf']\n",
    "a"
   ]
  },
  {
   "cell_type": "markdown",
   "metadata": {},
   "source": [
    "## 切片的倒序\n",
    "非常实用的手法\n",
    "`a[1:4][::-1]`"
   ]
  },
  {
   "cell_type": "code",
   "execution_count": 29,
   "metadata": {},
   "outputs": [
    {
     "data": {
      "text/plain": [
       "[5, 4, 3, 2, 1, 0]"
      ]
     },
     "execution_count": 29,
     "metadata": {},
     "output_type": "execute_result"
    }
   ],
   "source": [
    "a = [0,1,2,3,4,5]\n",
    "a[::-1]"
   ]
  },
  {
   "cell_type": "markdown",
   "metadata": {},
   "source": [
    "## 查增改删\n",
    "\n",
    "查\n"
   ]
  },
  {
   "cell_type": "code",
   "execution_count": null,
   "metadata": {},
   "outputs": [],
   "source": [
    "a[2]"
   ]
  },
  {
   "cell_type": "markdown",
   "metadata": {},
   "source": [
    "增加 append,\n",
    "注意是小括号。因为这是一个方法"
   ]
  },
  {
   "cell_type": "code",
   "execution_count": null,
   "metadata": {},
   "outputs": [],
   "source": [
    "a.append(6)"
   ]
  },
  {
   "cell_type": "markdown",
   "metadata": {},
   "source": [
    "更新  \n",
    "就是给某个元素或者某一段元素赋值"
   ]
  },
  {
   "cell_type": "code",
   "execution_count": null,
   "metadata": {},
   "outputs": [],
   "source": [
    "a[3]=9"
   ]
  },
  {
   "cell_type": "markdown",
   "metadata": {},
   "source": [
    "删除\n",
    "\n",
    "pop() 和 remove()两种方法都行  \n",
    "pop()是lifo形式，给出最后一个元素的值，并把这个值删掉  \n",
    "当然pop(0)这样也可以指定，要删除哪个index的值  \n",
    "也可以用remove(), 但是remove括号里应该是元素的值本身，不是index"
   ]
  },
  {
   "cell_type": "code",
   "execution_count": null,
   "metadata": {},
   "outputs": [],
   "source": [
    "a.pop()\n",
    "print(a)\n",
    "a.pop(0)\n",
    "print(a)"
   ]
  },
  {
   "cell_type": "markdown",
   "metadata": {},
   "source": [
    "常用函数\n",
    "len()\n",
    "max()\n",
    "min()\n",
    "\n",
    "方法\n",
    "reverse()\n",
    "clear()\n",
    "\n"
   ]
  },
  {
   "cell_type": "markdown",
   "metadata": {},
   "source": [
    "## 遍历方法\n",
    "1. for a_i in a\n",
    "2. for i in range(len(a))"
   ]
  },
  {
   "cell_type": "markdown",
   "metadata": {},
   "source": [
    "## List comprehension\n",
    "1. [expression for element in iteration]\n",
    "2. [expression if xxx else xxx for i in interation]\n",
    "就是通过迭代直接从list生成另一个list"
   ]
  },
  {
   "cell_type": "code",
   "execution_count": 2,
   "metadata": {},
   "outputs": [
    {
     "name": "stdout",
     "output_type": "stream",
     "text": [
      "[1, 4, 9, 16, 25]\n"
     ]
    }
   ],
   "source": [
    "a= [1,2,3,4,5]\n",
    "b = [i*i for i in a]\n",
    "print(b)"
   ]
  },
  {
   "cell_type": "code",
   "execution_count": 3,
   "metadata": {},
   "outputs": [
    {
     "name": "stdout",
     "output_type": "stream",
     "text": [
      "[1, 4, 3, 4, 5]\n"
     ]
    }
   ],
   "source": [
    "c =[i*i if i<3 else i for i in a]\n",
    "print(c)"
   ]
  },
  {
   "cell_type": "markdown",
   "metadata": {},
   "source": [
    "# Tuple  元组\n",
    "这是用小括号括起来的  \n",
    "和list的区别在于， tuple 只能做查询， 而list可以增删改查"
   ]
  },
  {
   "cell_type": "code",
   "execution_count": 4,
   "metadata": {},
   "outputs": [
    {
     "data": {
      "text/plain": [
       "'asdf'"
      ]
     },
     "execution_count": 4,
     "metadata": {},
     "output_type": "execute_result"
    }
   ],
   "source": [
    "a = (1,2.3, 'asdf')\n",
    "a[2]"
   ]
  },
  {
   "cell_type": "markdown",
   "metadata": {},
   "source": [
    "## 常用函数  \n",
    "len()  \n",
    "max()  \n",
    "min()  \n",
    "\n",
    "1 in a  \n",
    "'sdf' in a  \n",
    "这种方法可以看某元素是不是在tuple里，list也可以这么玩  "
   ]
  },
  {
   "cell_type": "code",
   "execution_count": null,
   "metadata": {},
   "outputs": [],
   "source": []
  },
  {
   "cell_type": "markdown",
   "metadata": {},
   "source": [
    "# set 集合  \n",
    "使用花括号括起来的一系列元素  \n",
    "也可以增删改查\n",
    "区别是：  \n",
    "- set里的元素都是唯一的\n",
    "- set的元素没有顺序，不能用index"
   ]
  },
  {
   "cell_type": "code",
   "execution_count": null,
   "metadata": {},
   "outputs": [],
   "source": [
    "a = {1, 2.3, 'asdf'}"
   ]
  },
  {
   "cell_type": "markdown",
   "metadata": {},
   "source": [
    "## 增删改查  \n",
    "a.add(1)\n",
    "a.update(2)\n",
    "a.update({5,6,7}) update的区别是在于它能一次增加很多元素进去\n",
    "删除  \n",
    "pop()不好用，随机给你一个元素\n",
    "remove(2) 这里的2是元素，不是index"
   ]
  },
  {
   "cell_type": "code",
   "execution_count": 11,
   "metadata": {},
   "outputs": [
    {
     "name": "stdout",
     "output_type": "stream",
     "text": [
      "[6, 5, 4, 3]\n",
      "[6, 4, 3]\n"
     ]
    }
   ],
   "source": [
    "a = [6,5,4,3,2]\n",
    "a.remove(2)\n",
    "print(a)\n",
    "a.pop(1)\n",
    "print(a)"
   ]
  },
  {
   "cell_type": "markdown",
   "metadata": {},
   "source": [
    "## 集合操作  \n",
    "交并补，异或\n",
    "& | -   ^"
   ]
  },
  {
   "cell_type": "markdown",
   "metadata": {},
   "source": []
  },
  {
   "cell_type": "markdown",
   "metadata": {},
   "source": [
    "# dict 字典  \n",
    "键值对  \n",
    "使用花括号 {key:value, key2:value2}  \n",
    "冷知识：从python3.7开始dict变成有序的了\n",
    "\n",
    "增删改查  \n",
    "查  \n",
    "dict[key]  \n",
    "增加  \n",
    "dict[newkey] = newvalue  \n",
    "改  \n",
    "dict[oldkey] = newvalue  \n",
    "删除  \n",
    "dict.pop(key)\n"
   ]
  },
  {
   "cell_type": "code",
   "execution_count": null,
   "metadata": {},
   "outputs": [],
   "source": [
    "mydict = {'age':18, 'birth':1992}\n",
    "print(mydict)\n",
    "print('age is', mydict['age'])\n",
    "mydict['sex'] = 'male'\n",
    "print(mydict)\n",
    "mydict.pop('age')\n",
    "#print('after pop',mydict)"
   ]
  },
  {
   "cell_type": "markdown",
   "metadata": {},
   "source": [
    "## 遍历  \n",
    "key in dict\n",
    "\n",
    "for key in dict:\n",
    "\n",
    "for v in dict.values():\n",
    "\n",
    "for k,v in dict.items():"
   ]
  },
  {
   "cell_type": "code",
   "execution_count": 15,
   "metadata": {},
   "outputs": [
    {
     "name": "stdout",
     "output_type": "stream",
     "text": [
      "birth\n",
      "sex\n",
      "1992\n",
      "male\n",
      "birth 1992\n",
      "sex male\n"
     ]
    }
   ],
   "source": [
    "for k in mydict:\n",
    "    print(k)\n",
    "for v in mydict.values():\n",
    "    print(v)\n",
    "for k,v in mydict.items():\n",
    "    print(k,v)"
   ]
  },
  {
   "cell_type": "markdown",
   "metadata": {},
   "source": [
    "# string 字符串  \n",
    "常用函数：  \n",
    "- len()  \n",
    "- max()  \n",
    "- min()  \n",
    "\n",
    "常用方法\n",
    "- s.count()  \n",
    "- s.isupper()\n",
    "- s.islower()  \n",
    "- s.isdigit()  \n",
    "- s.low() 所有字母都变成小写\n",
    "- s.upper()\n",
    "- s.strip() 删掉空格\n",
    "- s.lstrip() 删掉左边空格\n",
    "- s.rstrip()\n",
    "- s.swapcase() 交换大小写\n",
    "- s.replace(old, new)  \n",
    "- s.split() 返回一个list\n"
   ]
  },
  {
   "cell_type": "code",
   "execution_count": null,
   "metadata": {},
   "outputs": [],
   "source": []
  },
  {
   "cell_type": "markdown",
   "metadata": {},
   "source": [
    "# array 数组  \n",
    "就是储存了同一类型元素的list\n",
    "# linkedList 链表\n",
    "这个东西一般都是定义好的？需要自己显式地写吗？  \n"
   ]
  },
  {
   "cell_type": "code",
   "execution_count": null,
   "metadata": {},
   "outputs": [],
   "source": [
    "class ListNode:\n",
    "    def __init__(self, x):\n",
    "        self.value = x\n",
    "        self.next = None"
   ]
  },
  {
   "cell_type": "markdown",
   "metadata": {},
   "source": [
    "# hash Table 哈希表  \n",
    "就是python的dict\n",
    "java 叫 HashMap  \n",
    "这种方法的优点在于，search很快 --> 哈希算法，映射到某内存地址  \n",
    "insert 和 delete也很快  \n",
    "但是没有办法access，search可以直接代替掉index的访问方法  \n",
    "\n"
   ]
  },
  {
   "cell_type": "code",
   "execution_count": null,
   "metadata": {},
   "outputs": [],
   "source": []
  },
  {
   "cell_type": "markdown",
   "metadata": {},
   "source": [
    "# Queue 队列\n",
    "FIFO 先入先出  \n",
    "常用在BFS算法中  \n",
    "\n",
    "python 里叫deque 双端队列  \n",
    "需要 `from collections import deque`  \n",
    "强制转换`q = deque([12,3,4])`\n",
    "- append()  \n",
    "- pop()  \n",
    "- appendleft()\n",
    "- popleft()\n",
    "这种方法的好处是left的pop和append会比较快\n",
    "\n",
    "# stack 栈\n",
    "FILO  \n",
    "常用在DFS算法中  \n",
    "栈直接使用list就可以，因为尾部插入，尾部出就够了  \n",
    "不需要移动整个队列\n",
    "append() 和 pop()就够了\n",
    "\n"
   ]
  },
  {
   "cell_type": "code",
   "execution_count": null,
   "metadata": {},
   "outputs": [],
   "source": []
  },
  {
   "cell_type": "markdown",
   "metadata": {},
   "source": [
    "# heap 堆\n",
    "分大堆和小堆  \n",
    "是个已经排序的array  \n",
    "大堆每次pop()最大的值， 小堆每次pop()最小的值  \n",
    "`from heapq import heapify, heappush, heap pop`  \n",
    "\n",
    "默认是生成一个小堆  \n",
    "\n",
    "\n"
   ]
  },
  {
   "cell_type": "code",
   "execution_count": 24,
   "metadata": {},
   "outputs": [
    {
     "data": {
      "text/plain": [
       "list"
      ]
     },
     "execution_count": 24,
     "metadata": {},
     "output_type": "execute_result"
    }
   ],
   "source": [
    "from heapq import heapify, heappush, heappop, nlargest, nsmallest\n",
    "a = [1,2,3,4,5]\n",
    "heapify(a) #强制转换成堆，默认是小堆\n",
    "type(a)"
   ]
  },
  {
   "cell_type": "code",
   "execution_count": 25,
   "metadata": {},
   "outputs": [
    {
     "data": {
      "text/plain": [
       "[1, 2, 3, 4, 5, 4]"
      ]
     },
     "execution_count": 25,
     "metadata": {},
     "output_type": "execute_result"
    }
   ],
   "source": [
    "heappush(a, 4)\n",
    "a"
   ]
  },
  {
   "cell_type": "code",
   "execution_count": 26,
   "metadata": {},
   "outputs": [
    {
     "data": {
      "text/plain": [
       "1"
      ]
     },
     "execution_count": 26,
     "metadata": {},
     "output_type": "execute_result"
    }
   ],
   "source": [
    "heappop(a)"
   ]
  },
  {
   "cell_type": "code",
   "execution_count": 27,
   "metadata": {},
   "outputs": [
    {
     "data": {
      "text/plain": [
       "[5, 4]"
      ]
     },
     "execution_count": 27,
     "metadata": {},
     "output_type": "execute_result"
    }
   ],
   "source": [
    "nlargest(2,a)# 注意这里和大多数的函数不一样，原数组在后，有点不人性化"
   ]
  },
  {
   "cell_type": "code",
   "execution_count": 28,
   "metadata": {},
   "outputs": [
    {
     "data": {
      "text/plain": [
       "[2, 3]"
      ]
     },
     "execution_count": 28,
     "metadata": {},
     "output_type": "execute_result"
    }
   ],
   "source": [
    "nsmallest(2,a)"
   ]
  },
  {
   "cell_type": "markdown",
   "metadata": {},
   "source": [
    "python没有支持大堆的方法，解决办法是乘以负一 `-1`，然后用小堆的方法继续"
   ]
  },
  {
   "cell_type": "markdown",
   "metadata": {},
   "source": [
    "# Tree 树\n",
    "父子关系，就是不能有环  \n",
    "\n",
    "节点| 根节点 | 叶子节点  \n",
    "叶子节点没有儿子  \n",
    "\n",
    "高度：某个节点到叶子节点的最长路径  \n",
    "树的高度：根节点到叶子节点的最长路径  \n",
    "深度：根节点到某个节点的边数\n",
    "层：  \n",
    "\n",
    "## 二叉树\n",
    "每个节点最多两个节点\n",
    "\n",
    "满二叉树： 除了叶子节点，每个节点都有两个子节点  \n",
    "\n",
    "完全二叉树： 丐版完全二叉树，就是满二叉树的最后几个几点缺了。但是中间不能缺\n",
    "\n",
    "## 二叉树的遍历\n",
    "- 前序遍历：父亲 - 左 - 右\n",
    "- 中序遍历： 左 - 父亲 - 右\n",
    "- 后序遍历： 左 - 右 - 父亲"
   ]
  }
 ],
 "metadata": {
  "kernelspec": {
   "display_name": "fml23_env",
   "language": "python",
   "name": "python3"
  },
  "language_info": {
   "codemirror_mode": {
    "name": "ipython",
    "version": 3
   },
   "file_extension": ".py",
   "mimetype": "text/x-python",
   "name": "python",
   "nbconvert_exporter": "python",
   "pygments_lexer": "ipython3",
   "version": "3.10.13"
  }
 },
 "nbformat": 4,
 "nbformat_minor": 2
}
