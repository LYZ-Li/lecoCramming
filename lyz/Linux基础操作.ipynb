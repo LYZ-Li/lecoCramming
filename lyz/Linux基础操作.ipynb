{
 "cells": [
  {
   "cell_type": "markdown",
   "metadata": {},
   "source": [
    "pwd 当前目录\n",
    "\n",
    "cd 前往目录\n",
    "\n",
    "mk test——foplde 新建文件夹\n",
    "\n",
    "ls 列出当前文件夹下所有文件\n",
    "\n",
    "touch test——file 新建文件\n",
    "\n",
    "mv test_file /home/test_folder 移动文件\n",
    "\n",
    "cp test_file /home 复制 copy\n",
    "\n",
    "rm remove 删除\n",
    "\n",
    "rm -r 递归删除 - 也就是删除所有文件\n",
    "\n",
    "sudo 系统权限\n",
    "\n"
   ]
  }
 ],
 "metadata": {
  "language_info": {
   "name": "python"
  }
 },
 "nbformat": 4,
 "nbformat_minor": 2
}
